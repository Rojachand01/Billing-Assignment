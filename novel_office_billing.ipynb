{
 "cells": [
  {
   "cell_type": "code",
   "execution_count": 1,
   "id": "0e69e84d",
   "metadata": {},
   "outputs": [],
   "source": [
    "from datetime import datetime\n",
    "from collections import defaultdict\n",
    "from dateutil.relativedelta import relativedelta"
   ]
  },
  {
   "cell_type": "code",
   "execution_count": 2,
   "id": "0eeae4e0",
   "metadata": {},
   "outputs": [],
   "source": [
    "item_list = [\n",
    "    {\"itemCode\": \"Executive Desk (4*2)\", \"rate\": 1080, \"qty\": 25, \"startDate\": \"2024-11-01\", \"stopDate\": \"2024-11-30\"},\n",
    "    {\"itemCode\": \"Executive Desk (4*2)\", \"rate\": 1000, \"qty\": 5, \"startDate\": \"2024-11-01\", \"stopDate\": \"2024-11-30\"},\n",
    "    {\"itemCode\": \"Manager Cabin\", \"rate\": 5000, \"qty\": 5, \"startDate\": \"2024-11-01\", \"stopDate\": \"2024-11-30\"},\n",
    "    {\"itemCode\": \"Parking (2S)\", \"rate\": 1000, \"qty\": 10, \"startDate\": \"2024-11-01\", \"stopDate\": \"2024-11-30\"},\n",
    "    {\"itemCode\": \"Parking (2S)\", \"rate\": 0, \"qty\": 10, \"startDate\": \"2024-11-01\", \"stopDate\": \"2024-11-30\"},\n",
    "    {\"itemCode\": \"Executive Desk (4*2)\", \"rate\": 1100, \"qty\": 8, \"startDate\": \"2024-11-15\", \"stopDate\": \"2024-11-30\"},\n",
    "    {\"itemCode\": \"Manager Cabin\", \"rate\": 5200, \"qty\": 3, \"startDate\": \"2024-11-01\", \"stopDate\": \"2024-11-10\"},\n",
    "    {\"itemCode\": \"Conference Table\", \"rate\": 20000, \"qty\": 1, \"startDate\": \"2024-11-05\", \"stopDate\": \"2024-11-20\"},\n",
    "    {\"itemCode\": \"Parking (2S)\", \"rate\": 1000, \"qty\": 5, \"startDate\": \"2024-11-15\", \"stopDate\": \"2024-11-30\"},\n",
    "    {\"itemCode\": \"Reception Desk\", \"rate\": 7000, \"qty\": 2, \"startDate\": \"2024-11-01\", \"stopDate\": \"2024-11-30\"},\n",
    "    {\"itemCode\": \"Reception Desk\", \"rate\": 7000, \"qty\": 1, \"startDate\": \"2024-11-10\", \"stopDate\": \"2024-11-25\"}\n",
    "]\n"
   ]
  },
  {
   "cell_type": "code",
   "execution_count": 3,
   "id": "3c882ffa",
   "metadata": {},
   "outputs": [],
   "source": [
    "def generate_monthly_bill(item_list, target_month):\n",
    "    target_date = datetime.strptime(target_month, \"%Y-%m\")\n",
    "    start_of_month = target_date.replace(day=1)\n",
    "    end_of_month = start_of_month + relativedelta(months=1) - relativedelta(days=1)\n",
    "    days_in_month = (end_of_month - start_of_month).days + 1\n",
    "\n",
    "    total_revenue = 0\n",
    "    line_items = []\n",
    "\n",
    "    for item in item_list:\n",
    "        item_start = datetime.strptime(item[\"startDate\"], \"%Y-%m-%d\")\n",
    "        item_stop = datetime.strptime(item[\"stopDate\"], \"%Y-%m-%d\")\n",
    "\n",
    "        # Overlap with target month\n",
    "        active_start = max(start_of_month, item_start)\n",
    "        active_end = min(end_of_month, item_stop)\n",
    "\n",
    "        if active_start <= active_end:\n",
    "            active_days = (active_end - active_start).days + 1\n",
    "            prorated_amount = (item[\"rate\"] * item[\"qty\"]) * (active_days / days_in_month)\n",
    "            total_revenue += prorated_amount\n",
    "\n",
    "            line_items.append({\n",
    "                \"itemCode\": item[\"itemCode\"],\n",
    "                \"rate\": item[\"rate\"],\n",
    "                \"qty\": item[\"qty\"],\n",
    "                \"billingPeriod\": f\"{active_start.date()} to {active_end.date()}\",\n",
    "                \"amount\": round(prorated_amount, 2)\n",
    "            })\n",
    "\n",
    "    return {\n",
    "        \"line_items\": line_items,\n",
    "        \"total_revenue\": round(total_revenue, 2)\n",
    "    }\n"
   ]
  },
  {
   "cell_type": "code",
   "execution_count": 4,
   "id": "82934d64",
   "metadata": {},
   "outputs": [
    {
     "name": "stdout",
     "output_type": "stream",
     "text": [
      "{'itemCode': 'Executive Desk (4*2)', 'rate': 1080, 'qty': 25, 'billingPeriod': '2024-11-01 to 2024-11-30', 'amount': 27000.0}\n",
      "{'itemCode': 'Executive Desk (4*2)', 'rate': 1000, 'qty': 5, 'billingPeriod': '2024-11-01 to 2024-11-30', 'amount': 5000.0}\n",
      "{'itemCode': 'Manager Cabin', 'rate': 5000, 'qty': 5, 'billingPeriod': '2024-11-01 to 2024-11-30', 'amount': 25000.0}\n",
      "{'itemCode': 'Parking (2S)', 'rate': 1000, 'qty': 10, 'billingPeriod': '2024-11-01 to 2024-11-30', 'amount': 10000.0}\n",
      "{'itemCode': 'Parking (2S)', 'rate': 0, 'qty': 10, 'billingPeriod': '2024-11-01 to 2024-11-30', 'amount': 0.0}\n",
      "{'itemCode': 'Executive Desk (4*2)', 'rate': 1100, 'qty': 8, 'billingPeriod': '2024-11-15 to 2024-11-30', 'amount': 4693.33}\n",
      "{'itemCode': 'Manager Cabin', 'rate': 5200, 'qty': 3, 'billingPeriod': '2024-11-01 to 2024-11-10', 'amount': 5200.0}\n",
      "{'itemCode': 'Conference Table', 'rate': 20000, 'qty': 1, 'billingPeriod': '2024-11-05 to 2024-11-20', 'amount': 10666.67}\n",
      "{'itemCode': 'Parking (2S)', 'rate': 1000, 'qty': 5, 'billingPeriod': '2024-11-15 to 2024-11-30', 'amount': 2666.67}\n",
      "{'itemCode': 'Reception Desk', 'rate': 7000, 'qty': 2, 'billingPeriod': '2024-11-01 to 2024-11-30', 'amount': 14000.0}\n",
      "{'itemCode': 'Reception Desk', 'rate': 7000, 'qty': 1, 'billingPeriod': '2024-11-10 to 2024-11-25', 'amount': 3733.33}\n",
      "\n",
      "Total Revenue: ₹ 107960.0\n"
     ]
    }
   ],
   "source": [
    "result = generate_monthly_bill(item_list, \"2024-11\")\n",
    "\n",
    "for item in result[\"line_items\"]:\n",
    "    print(item)\n",
    "\n",
    "print(\"\\nTotal Revenue: ₹\", result[\"total_revenue\"])\n"
   ]
  }
 ],
 "metadata": {
  "kernelspec": {
   "display_name": "base",
   "language": "python",
   "name": "python3"
  },
  "language_info": {
   "codemirror_mode": {
    "name": "ipython",
    "version": 3
   },
   "file_extension": ".py",
   "mimetype": "text/x-python",
   "name": "python",
   "nbconvert_exporter": "python",
   "pygments_lexer": "ipython3",
   "version": "3.9.12"
  }
 },
 "nbformat": 4,
 "nbformat_minor": 5
}
